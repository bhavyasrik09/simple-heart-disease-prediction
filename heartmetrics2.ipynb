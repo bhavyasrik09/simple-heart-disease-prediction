{
  "nbformat": 4,
  "nbformat_minor": 0,
  "metadata": {
    "colab": {
      "provenance": []
    },
    "kernelspec": {
      "name": "python3",
      "display_name": "Python 3"
    },
    "language_info": {
      "name": "python"
    }
  },
  "cells": [
    {
      "cell_type": "code",
      "execution_count": 1,
      "metadata": {
        "id": "_iwERigx6NEa"
      },
      "outputs": [],
      "source": [
        "import pickle as pkl"
      ]
    },
    {
      "cell_type": "code",
      "source": [
        "pkfl = pkl.load(open('/content/heart.pkl', 'rb'))"
      ],
      "metadata": {
        "id": "yAl6KKqr6lWA"
      },
      "execution_count": 2,
      "outputs": []
    },
    {
      "cell_type": "code",
      "source": [
        "import pickle\n",
        "\n",
        "# Load the trained model\n",
        "with open('heart.pkl', 'rb') as file:\n",
        "    model = pickle.load(file)\n",
        "\n",
        "# Get user inputs\n",
        "age = float(input('Enter age: '))\n",
        "sex = int(input('Enter sex (1 = male; 0 = female): '))\n",
        "cp = int(input('Enter chest pain type (0-3): '))\n",
        "thalach = float(input('Enter maximum heart rate achieved: '))\n",
        "exang = int(input('Enter exercise-induced angina (1 = yes; 0 = no): '))\n",
        "oldpeak = float(input('Enter ST depression induced by exercise relative to rest: '))\n",
        "slope = int(input('Enter the slope of the peak exercise ST segment (0-2): '))\n",
        "ca = int(input('Enter number of major vessels (0-3) colored by fluoroscopy: '))\n",
        "thal = int(input('Enter thal (3 = normal; 6 = fixed defect; 7 = reversible defect): '))\n",
        "\n",
        "# Predict using the model\n",
        "prediction = model.predict([[age, sex, cp, thalach, exang, oldpeak, slope, ca, thal]])\n",
        "\n",
        "# Output the prediction\n",
        "print('Heart disease prediction (1 = presence; 0 = absence):', prediction[0])\n"
      ],
      "metadata": {
        "colab": {
          "base_uri": "https://localhost:8080/"
        },
        "id": "CtYO_4Fi6wSN",
        "outputId": "dbb2573d-af3c-4903-fdc4-1fc79d340174"
      },
      "execution_count": 3,
      "outputs": [
        {
          "output_type": "stream",
          "name": "stdout",
          "text": [
            "Enter age: 67\n",
            "Enter sex (1 = male; 0 = female): 1\n",
            "Enter chest pain type (0-3): 2\n",
            "Enter maximum heart rate achieved: 150\n",
            "Enter exercise-induced angina (1 = yes; 0 = no): 1\n",
            "Enter ST depression induced by exercise relative to rest: 2.7\n",
            "Enter the slope of the peak exercise ST segment (0-2): 0\n",
            "Enter number of major vessels (0-3) colored by fluoroscopy: 3\n",
            "Enter thal (3 = normal; 6 = fixed defect; 7 = reversible defect): 7\n",
            "Heart disease prediction (1 = presence; 0 = absence): 0\n"
          ]
        },
        {
          "output_type": "stream",
          "name": "stderr",
          "text": [
            "/usr/local/lib/python3.10/dist-packages/sklearn/base.py:439: UserWarning: X does not have valid feature names, but LogisticRegression was fitted with feature names\n",
            "  warnings.warn(\n"
          ]
        }
      ]
    },
    {
      "cell_type": "code",
      "source": [],
      "metadata": {
        "id": "YpOVgrTX-O5R"
      },
      "execution_count": null,
      "outputs": []
    }
  ]
}